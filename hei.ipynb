{
 "cells": [
  {
   "cell_type": "code",
   "execution_count": 2,
   "metadata": {},
   "outputs": [
    {
     "name": "stderr",
     "output_type": "stream",
     "text": [
      "Started\n"
     ]
    }
   ],
   "source": [
    "import pandas as pd\n",
    "import numpy as np\n",
    "from IPython.display import display\n",
    "from src.logConfig import init_logger\n",
    "logger = init_logger('hei.log')\n",
    "logger.info('Started')\n"
   ]
  },
  {
   "cell_type": "code",
   "execution_count": 3,
   "metadata": {},
   "outputs": [
    {
     "name": "stderr",
     "output_type": "stream",
     "text": [
      "/var/folders/k1/lqjpbq3s6rx6kvsgf3zflkk80000gn/T/ipykernel_62638/4218059112.py:2: DtypeWarning: Columns (7,20,35,36,58) have mixed types. Specify dtype option on import or set low_memory=False.\n",
      "  data = pd.read_csv('data/full_df.tsv', sep='\\t')\n"
     ]
    }
   ],
   "source": [
    "#load data\n",
    "data = pd.read_csv('data/full_df.tsv', sep='\\t')"
   ]
  },
  {
   "cell_type": "code",
   "execution_count": 7,
   "metadata": {},
   "outputs": [],
   "source": [
    "# Dictionaries of the HEI criteria for each food group\n",
    "#2010,2015,2020\n",
    "\n",
    "hei_2010 = {\n",
    "    'fruit_total': {'name': 'Total Fruit', 'goal': 0.8, 'total': 5},\n",
    "    'fruit_whole': {'name': 'Whole Fruit', 'goal': 0.4, 'total': 5},\n",
    "    'veg': {'name': 'Vegetables', 'goal': 1.1, 'total': 5},\n",
    "    'grn_bean': {'name': 'Greens and Beans', 'goal': 0.2, 'total': 5},\n",
    "    'whl_grn': {'name': 'Whole Grains', 'goal': 1.5, 'total': 10},\n",
    "    'dairy': {'name': 'Dairy', 'goal': 1.3, 'total': 10},\n",
    "    'prot': {'name': 'Total Protein', 'goal': 2.5, 'total': 5},\n",
    "    'sf_plant': {'name': 'Seafood and plant protein', 'goal': 0.3, 'total': 5},\n",
    "    'fa': {'name': 'MUFA+PUFA / SFA ratio', 'goal': 2.5, 'total': 10}, #minimum <= 1.2\n",
    "    'rf_grn': {'name': 'Refined Grains', 'goal': 1.8, 'total': 10}, #excess = >4.3\n",
    "    'sodium': {'name': 'sodium', 'goal': 1.1, 'total': 10}, #excess = >2.0\n",
    "    'empty_cal': {'name': 'empty calories (saturated fats, added sugars, alcohol)', 'goal': .19, 'total': 20} #excess = >.5\n",
    "}\n",
    "\n",
    "class HEI:\n",
    "    def __init__(self, df, hei_dict):\n",
    "        self.df = df\n",
    "        self.hei_dict = hei_dict\n",
    "        self.categories = list(hei_dict.keys())\n",
    "        self.hei_df = pd.DataFrame()\n",
    "        self.check_for_columns()\n",
    "        \n",
    "        \n",
    "    def check_for_columns(self):\n",
    "        '''\n",
    "        Checks the dataframe for the columns needed to calculate the HEI\n",
    "        '''\n",
    "        found = []\n",
    "        for key in self.categories:\n",
    "            if key in self.df.columns:\n",
    "                self.hei_df[key] = self.df[key]\n",
    "                found.append(key)\n",
    "        logger.info(f'Found columns: {found}')\n",
    "        \n",
    "    def hei_cols(self, name, cats=[]):\n",
    "        '''\n",
    "        Takes a list of columns corresponding to an HEI category\n",
    "        and sums them to create a new column for scoring\n",
    "        '''\n",
    "        if name not in self.categories:\n",
    "            logger.info(f'{name} not in hei index. call instructions() to see available categories')\n",
    "        \n",
    "        self.hei_df[name] = self.df[cats].sum(axis=1)\n",
    "        logger.info(f'Created column {name} with columns {cats}')\n",
    "        \n",
    "    def hei_fa(self, mufa, pufa, sfa):\n",
    "        '''\n",
    "        Takes the Fatty acids and calculates the ratio of MUFA+PUFA / SFA\n",
    "        '''\n",
    "        self.hei_df['fa'] = (self.df[mufa] + self.df[pufa]) / self.df[sfa]\n",
    "        logger.info('Created column for fa')\n",
    "        \n",
    "    \n",
    "    def instructions(self):\n",
    "        '''\n",
    "        Prints the instructions HEI category names\n",
    "        '''\n",
    "        for key, value in self.hei_dict.items():\n",
    "            print(f'{key}: {value.name}')\n",
    "\n",
    "    \n",
    "    def hei_calc(self, df, cat, goal, total):\n",
    "        hei_val = df[cat].copy()\n",
    "        adjust = total/goal\n",
    "\n",
    "        hei_val = hei_val.apply(lambda x: total if x >= goal else x * adjust)\n",
    "        return hei_val\n",
    "\n",
    "\n",
    "    def hei_calc_sofaa(self, df, cat, goal, total):\n",
    "        hei_val = df[cat].copy()\n",
    "\n",
    "        hei_val = hei_val.apply(lambda x: 0 if x >= .50 else x)\n",
    "        hei_val = hei_val.apply(\n",
    "            lambda x: total if x <= .190 else 20 * ((x - .5)/-.31))\n",
    "        return hei_val"
   ]
  },
  {
   "cell_type": "code",
   "execution_count": 9,
   "metadata": {},
   "outputs": [
    {
     "name": "stderr",
     "output_type": "stream",
     "text": [
      "Found columns: []\n",
      "Created column fruit_total with columns ['F_TOT']\n"
     ]
    }
   ],
   "source": [
    "hei_calc = HEI(data, hei_2010)\n",
    "\n",
    "hei_calc.hei_cols('fruit_total', ['F_TOT'])\n",
    "hei_calc.hei_cols('fruit_whole', ['F_WHOLE'])"
   ]
  }
 ],
 "metadata": {
  "kernelspec": {
   "display_name": "diet",
   "language": "python",
   "name": "python3"
  },
  "language_info": {
   "codemirror_mode": {
    "name": "ipython",
    "version": 3
   },
   "file_extension": ".py",
   "mimetype": "text/x-python",
   "name": "python",
   "nbconvert_exporter": "python",
   "pygments_lexer": "ipython3",
   "version": "3.12.1"
  }
 },
 "nbformat": 4,
 "nbformat_minor": 2
}
